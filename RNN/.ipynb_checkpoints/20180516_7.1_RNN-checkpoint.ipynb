{
 "cells": [
  {
   "cell_type": "code",
   "execution_count": 1,
   "metadata": {},
   "outputs": [],
   "source": [
    "import tensorflow as tf\n",
    "from tensorflow.examples.tutorials.mnist import input_data"
   ]
  },
  {
   "cell_type": "code",
   "execution_count": 2,
   "metadata": {
    "scrolled": true
   },
   "outputs": [
    {
     "name": "stdout",
     "output_type": "stream",
     "text": [
      "Extracting MNIST_data/train-images-idx3-ubyte.gz\n",
      "Extracting MNIST_data/train-labels-idx1-ubyte.gz\n",
      "Extracting MNIST_data/t10k-images-idx3-ubyte.gz\n",
      "Extracting MNIST_data/t10k-labels-idx1-ubyte.gz\n",
      "WARNING:tensorflow:From <ipython-input-2-353d081bc6d2>:36: softmax_cross_entropy_with_logits (from tensorflow.python.ops.nn_ops) is deprecated and will be removed in a future version.\n",
      "Instructions for updating:\n",
      "\n",
      "Future major versions of TensorFlow will allow gradients to flow\n",
      "into the labels input on backprop by default.\n",
      "\n",
      "See tf.nn.softmax_cross_entropy_with_logits_v2.\n",
      "\n",
      "Iter 0,Testing Accuracy: 0.8033\n",
      "Iter 1,Testing Accuracy: 0.8914\n",
      "Iter 2,Testing Accuracy: 0.9153\n",
      "Iter 3,Testing Accuracy: 0.9282\n",
      "Iter 4,Testing Accuracy: 0.9279\n",
      "Iter 5,Testing Accuracy: 0.9382\n"
     ]
    }
   ],
   "source": [
    "# 先载入数据集\n",
    "mnist = input_data.read_data_sets(\"MNIST_data/\",one_hot=True)\n",
    "\n",
    "# 输入图片28*28\n",
    "n_inputs = 28 #输入一行，一行28个数据\n",
    "max_time = 28 #共28行\n",
    "lstm_size = 100 #基础单元\n",
    "n_classes = 10 #10个分类\n",
    "batch_size = 50 #每批次50个样本\n",
    "n_batch = mnist.train.num_examples // batch_size #多少个批次\n",
    "\n",
    "# 两个placeholder\n",
    "x = tf.placeholder(tf.float32,[None,784])\n",
    "y = tf.placeholder(tf.float32,[None,10])\n",
    "\n",
    "# 初始化权值,100*10\n",
    "weights = tf.Variable(tf.truncated_normal([lstm_size,n_classes],stddev=0.1))\n",
    "# 初始化偏置,10\n",
    "biases = tf.Variable(tf.constant(0.1,shape=[n_classes]))\n",
    "\n",
    "# 定义RNN网络\n",
    "def RNN(X,weights,biases):\n",
    "    # input = [batch_size,max_time,n_inputs]\n",
    "    inputs = tf.reshape(X,[-1,max_time,n_inputs])\n",
    "    # 定义LSTM基本cell\n",
    "    lstm_cell = tf.nn.rnn_cell.BasicLSTMCell(lstm_size)\n",
    "#     initial_state = lstm_cell.zero_state(batch_size, dtype=tf.float32)\n",
    "    outputs,state = tf.nn.dynamic_rnn(lstm_cell,inputs,dtype=tf.float32)\n",
    "    \n",
    "    results = tf.nn.softmax(tf.matmul(state[1],weights) + biases)\n",
    "    return results\n",
    "\n",
    "# 预测值\n",
    "prediction = RNN(x,weights,biases)\n",
    "# 损失函数\n",
    "cross_entropy = tf.reduce_mean(tf.nn.softmax_cross_entropy_with_logits(logits=prediction,labels=y))\n",
    "# Opitmizer\n",
    "train_step = tf.train.AdamOptimizer(1e-4).minimize(cross_entropy)\n",
    "# 结果存放，布尔值类型\n",
    "correct_prediction = tf.equal(tf.argmax(y,1),tf.argmax(prediction,1))\n",
    "# Accuracy\n",
    "accuracy = tf.reduce_mean(tf.cast(correct_prediction,tf.float32))\n",
    "# init\n",
    "init = tf.global_variables_initializer()\n",
    "\n",
    "with tf.Session() as sess:\n",
    "    sess.run(init)\n",
    "    for epoch in range(6):\n",
    "        for batch in range(n_batch):\n",
    "            batch_xs,batch_ys = mnist.train.next_batch(batch_size)\n",
    "            sess.run(train_step,feed_dict={x:batch_xs,y:batch_ys})\n",
    "        \n",
    "        acc = sess.run(accuracy,feed_dict={x:mnist.test.images,y:mnist.test.labels})\n",
    "        print(\"Iter \" + str(epoch) + \",Testing Accuracy: \" + str(acc))\n",
    "        \n",
    "        "
   ]
  },
  {
   "cell_type": "markdown",
   "metadata": {},
   "source": [
    "> [TensorFlow中RNN实现的正确打开方式](https://zhuanlan.zhihu.com/p/28196873)\n",
    "\n",
    ">  详细解释RNN的使用方法以及tf.nn.dynamic_rnn(),是一个系统的学习流程，作者很优秀。\n",
    "\n",
    "> 不知道为什么，在53行加了个initial_state就会报错。网上查到是tf.nn.dynamic_rnn()移除了initial这个参数。\n",
    "\n",
    "> 还有一个就是我跑的比原版本慢许多，不知道原因。\n",
    "\n",
    "Extracting MNIST_data/train-images-idx3-ubyte.gz\n",
    "Extracting MNIST_data/train-labels-idx1-ubyte.gz\n",
    "Extracting MNIST_data/t10k-images-idx3-ubyte.gz\n",
    "Extracting MNIST_data/t10k-labels-idx1-ubyte.gz\n",
    "WARNING:tensorflow:From <ipython-input-2-353d081bc6d2>:36: softmax_cross_entropy_with_logits (from tensorflow.python.ops.nn_ops) is deprecated and will be removed in a future version.\n",
    "Instructions for updating:\n",
    "\n",
    "Future major versions of TensorFlow will allow gradients to flow\n",
    "into the labels input on backprop by default.\n",
    "\n",
    "See tf.nn.softmax_cross_entropy_with_logits_v2.\n",
    "\n",
    "Iter 0,Testing Accuracy: 0.8033\n",
    "Iter 1,Testing Accuracy: 0.8914\n",
    "Iter 2,Testing Accuracy: 0.9153\n",
    "Iter 3,Testing Accuracy: 0.9282\n",
    "Iter 4,Testing Accuracy: 0.9279\n",
    "Iter 5,Testing Accuracy: 0.9382"
   ]
  }
 ],
 "metadata": {
  "anaconda-cloud": {},
  "kernelspec": {
   "display_name": "python3",
   "language": "python",
   "name": "py3"
  },
  "language_info": {
   "codemirror_mode": {
    "name": "ipython",
    "version": 3
   },
   "file_extension": ".py",
   "mimetype": "text/x-python",
   "name": "python",
   "nbconvert_exporter": "python",
   "pygments_lexer": "ipython3",
   "version": "3.6.4"
  },
  "toc": {
   "nav_menu": {},
   "number_sections": true,
   "sideBar": true,
   "skip_h1_title": false,
   "title_cell": "Table of Contents",
   "title_sidebar": "Contents",
   "toc_cell": false,
   "toc_position": {},
   "toc_section_display": true,
   "toc_window_display": false
  }
 },
 "nbformat": 4,
 "nbformat_minor": 2
}
