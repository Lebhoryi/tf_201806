{
 "cells": [
  {
   "cell_type": "code",
   "execution_count": 10,
   "metadata": {},
   "outputs": [
    {
     "name": "stdout",
     "output_type": "stream",
     "text": [
      "0 [1.2427161, 2.3786924]\n",
      "20 [1.8417377, 3.0815237]\n",
      "40 [1.9275154, 3.037338]\n",
      "60 [1.9668016, 3.017101]\n",
      "80 [1.9847951, 3.0078323]\n",
      "100 [1.9930362, 3.0035872]\n",
      "120 [1.9968108, 3.0016427]\n",
      "140 [1.9985393, 3.0007524]\n",
      "160 [1.9993309, 3.0003445]\n",
      "180 [1.9996936, 3.0001578]\n",
      "200 [1.9998597, 3.0000722]\n"
     ]
    }
   ],
   "source": [
    "import tensorflow as tf\n",
    "import numpy as np\n",
    "\n",
    "# 创建线性模型\n",
    "x_data = np.random.rand(150)\n",
    "y_data = 2.0 * x_data + 3.0\n",
    "\n",
    "w = tf.Variable(0.)\n",
    "# b = tf.Variable(tf.zeros([1]))\n",
    "b = tf.Variable(0.)\n",
    "y = w * x_data + b\n",
    "\n",
    "# 二次代价函数\n",
    "loss = tf.reduce_mean(tf.square(y_data - y))\n",
    "# 优化器\n",
    "optimizer = tf.train.GradientDescentOptimizer(0.3)\n",
    "train = optimizer.minimize(loss)\n",
    "\n",
    "init = tf.global_variables_initializer()\n",
    "\n",
    "with tf.Session() as sess:\n",
    "    sess.run(init)\n",
    "    for step in range(201):\n",
    "        sess.run(train)\n",
    "        if step % 20 == 0:\n",
    "            print(step,sess.run([w,b]))\n",
    "\n"
   ]
  },
  {
   "cell_type": "code",
   "execution_count": null,
   "metadata": {},
   "outputs": [],
   "source": []
  }
 ],
 "metadata": {
  "anaconda-cloud": {},
  "kernelspec": {
   "display_name": "Python [conda env:py3]",
   "language": "python",
   "name": "conda-env-py3-py"
  },
  "language_info": {
   "codemirror_mode": {
    "name": "ipython",
    "version": 3
   },
   "file_extension": ".py",
   "mimetype": "text/x-python",
   "name": "python",
   "nbconvert_exporter": "python",
   "pygments_lexer": "ipython3",
   "version": "3.6.4"
  },
  "toc": {
   "nav_menu": {},
   "number_sections": true,
   "sideBar": true,
   "skip_h1_title": false,
   "title_cell": "Table of Contents",
   "title_sidebar": "Contents",
   "toc_cell": false,
   "toc_position": {},
   "toc_section_display": true,
   "toc_window_display": false
  }
 },
 "nbformat": 4,
 "nbformat_minor": 2
}
